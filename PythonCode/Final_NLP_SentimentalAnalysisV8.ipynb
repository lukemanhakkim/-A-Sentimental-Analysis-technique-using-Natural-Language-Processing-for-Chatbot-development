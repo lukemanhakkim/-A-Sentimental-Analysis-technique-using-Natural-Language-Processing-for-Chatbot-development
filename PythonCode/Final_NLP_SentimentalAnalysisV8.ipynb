{
  "nbformat": 4,
  "nbformat_minor": 0,
  "metadata": {
    "colab": {
      "name": "Final_NLP_SentimentalAnalysisV8.ipynb",
      "provenance": [],
      "collapsed_sections": [],
      "toc_visible": true
    },
    "kernelspec": {
      "name": "python3",
      "display_name": "Python 3"
    }
  },
  "cells": [
    {
      "cell_type": "code",
      "metadata": {
        "id": "djGW-MIjZ2-i",
        "colab_type": "code",
        "outputId": "5372b8eb-2879-4a75-aa8f-8c361dca8af7",
        "colab": {
          "base_uri": "https://localhost:8080/",
          "height": 156
        }
      },
      "source": [
        "#Data Manipulation \n",
        "import numpy as np\n",
        "import pandas as pd\n",
        "\n",
        "#Data Visualization\n",
        "import matplotlib.pyplot as plt\n",
        "import seaborn as sb\n",
        "from plotly import tools\n",
        "import plotly.graph_objs as go\n",
        "import plotly.offline as py\n",
        "%matplotlib inline\n",
        "\n",
        "#Text Preprocessing-stopword removal\n",
        "import re\n",
        "from collections import Counter\n",
        "from wordcloud import WordCloud, STOPWORDS\n",
        "!pip install stop_words\n",
        "from stop_words import get_stop_words\n",
        "import nltk\n",
        "nltk.download('stopwords')\n",
        "nltk.download('punkt')\n",
        "\n",
        "#Natural Language Toolkit\n",
        "from nltk.tokenize import RegexpTokenizer\n",
        "from nltk.corpus import stopwords\n",
        "from nltk import sent_tokenize, word_tokenize\n",
        "from textblob import TextBlob\n",
        "import string\n",
        "\n",
        "#Feature Extraction\n",
        "from sklearn.feature_extraction.text import CountVectorizer\n",
        "\n",
        "#Machine Learning\n",
        "from sklearn.model_selection import train_test_split\n",
        "from sklearn.svm import SVC\n",
        "from sklearn.ensemble import RandomForestClassifier\n",
        "from sklearn.naive_bayes import MultinomialNB\n",
        "\n",
        "#Performance Analysis\n",
        "from sklearn.metrics import confusion_matrix, classification_report, accuracy_score\n",
        "from sklearn.model_selection import cross_val_score\n",
        "from sklearn import metrics"
      ],
      "execution_count": 1,
      "outputs": [
        {
          "output_type": "stream",
          "text": [
            "/usr/local/lib/python3.6/dist-packages/statsmodels/tools/_testing.py:19: FutureWarning: pandas.util.testing is deprecated. Use the functions in the public API at pandas.testing instead.\n",
            "  import pandas.util.testing as tm\n"
          ],
          "name": "stderr"
        },
        {
          "output_type": "stream",
          "text": [
            "Requirement already satisfied: stop_words in /usr/local/lib/python3.6/dist-packages (2018.7.23)\n",
            "[nltk_data] Downloading package stopwords to /root/nltk_data...\n",
            "[nltk_data]   Package stopwords is already up-to-date!\n",
            "[nltk_data] Downloading package punkt to /root/nltk_data...\n",
            "[nltk_data]   Package punkt is already up-to-date!\n"
          ],
          "name": "stdout"
        }
      ]
    },
    {
      "cell_type": "code",
      "metadata": {
        "id": "QpXhNIIrOzfS",
        "colab_type": "code",
        "colab": {}
      },
      "source": [
        "read_csv_file = pd.read_csv(\"New_E-Commerce_Reviews.csv\",header= 0, encoding= 'unicode_escape')\n",
        "vars_in_column = ['Clothing ID','Age','Title','Review Text','Rating','Recommended IND','Positive Feedback Count','Division Name','Department Name','Class Name']"
      ],
      "execution_count": 0,
      "outputs": []
    },
    {
      "cell_type": "code",
      "metadata": {
        "id": "hUU4oECZRJ4p",
        "colab_type": "code",
        "outputId": "1c57dd6e-03cc-4daa-8d0b-98f040cb5448",
        "colab": {
          "base_uri": "https://localhost:8080/",
          "height": 323
        }
      },
      "source": [
        "df=pd.DataFrame(data=read_csv_file,columns=vars_in_column)\n",
        "df.head()"
      ],
      "execution_count": 3,
      "outputs": [
        {
          "output_type": "execute_result",
          "data": {
            "text/html": [
              "<div>\n",
              "<style scoped>\n",
              "    .dataframe tbody tr th:only-of-type {\n",
              "        vertical-align: middle;\n",
              "    }\n",
              "\n",
              "    .dataframe tbody tr th {\n",
              "        vertical-align: top;\n",
              "    }\n",
              "\n",
              "    .dataframe thead th {\n",
              "        text-align: right;\n",
              "    }\n",
              "</style>\n",
              "<table border=\"1\" class=\"dataframe\">\n",
              "  <thead>\n",
              "    <tr style=\"text-align: right;\">\n",
              "      <th></th>\n",
              "      <th>Clothing ID</th>\n",
              "      <th>Age</th>\n",
              "      <th>Title</th>\n",
              "      <th>Review Text</th>\n",
              "      <th>Rating</th>\n",
              "      <th>Recommended IND</th>\n",
              "      <th>Positive Feedback Count</th>\n",
              "      <th>Division Name</th>\n",
              "      <th>Department Name</th>\n",
              "      <th>Class Name</th>\n",
              "    </tr>\n",
              "  </thead>\n",
              "  <tbody>\n",
              "    <tr>\n",
              "      <th>0</th>\n",
              "      <td>767.0</td>\n",
              "      <td>33.0</td>\n",
              "      <td>NaN</td>\n",
              "      <td>Absolutely wonderful - silky and sexy and comf...</td>\n",
              "      <td>4</td>\n",
              "      <td>1</td>\n",
              "      <td>0.0</td>\n",
              "      <td>Initmates</td>\n",
              "      <td>Intimate</td>\n",
              "      <td>Intimates</td>\n",
              "    </tr>\n",
              "    <tr>\n",
              "      <th>1</th>\n",
              "      <td>1080.0</td>\n",
              "      <td>34.0</td>\n",
              "      <td>NaN</td>\n",
              "      <td>Love this dress!  it's sooo pretty.  i happene...</td>\n",
              "      <td>5</td>\n",
              "      <td>1</td>\n",
              "      <td>4.0</td>\n",
              "      <td>General</td>\n",
              "      <td>Dresses</td>\n",
              "      <td>Dresses</td>\n",
              "    </tr>\n",
              "    <tr>\n",
              "      <th>2</th>\n",
              "      <td>1077.0</td>\n",
              "      <td>60.0</td>\n",
              "      <td>Some major design flaws</td>\n",
              "      <td>I had such high hopes for this dress and reall...</td>\n",
              "      <td>3</td>\n",
              "      <td>0</td>\n",
              "      <td>0.0</td>\n",
              "      <td>General</td>\n",
              "      <td>Dresses</td>\n",
              "      <td>Dresses</td>\n",
              "    </tr>\n",
              "    <tr>\n",
              "      <th>3</th>\n",
              "      <td>1049.0</td>\n",
              "      <td>50.0</td>\n",
              "      <td>My favorite buy!</td>\n",
              "      <td>I love, love, love this jumpsuit. it's fun, fl...</td>\n",
              "      <td>5</td>\n",
              "      <td>1</td>\n",
              "      <td>0.0</td>\n",
              "      <td>General Petite</td>\n",
              "      <td>Bottoms</td>\n",
              "      <td>Pants</td>\n",
              "    </tr>\n",
              "    <tr>\n",
              "      <th>4</th>\n",
              "      <td>847.0</td>\n",
              "      <td>47.0</td>\n",
              "      <td>Flattering shirt</td>\n",
              "      <td>This shirt is very flattering to all due to th...</td>\n",
              "      <td>5</td>\n",
              "      <td>1</td>\n",
              "      <td>6.0</td>\n",
              "      <td>General</td>\n",
              "      <td>Tops</td>\n",
              "      <td>Blouses</td>\n",
              "    </tr>\n",
              "  </tbody>\n",
              "</table>\n",
              "</div>"
            ],
            "text/plain": [
              "   Clothing ID   Age  ... Department Name Class Name\n",
              "0        767.0  33.0  ...        Intimate  Intimates\n",
              "1       1080.0  34.0  ...         Dresses    Dresses\n",
              "2       1077.0  60.0  ...         Dresses    Dresses\n",
              "3       1049.0  50.0  ...         Bottoms      Pants\n",
              "4        847.0  47.0  ...            Tops    Blouses\n",
              "\n",
              "[5 rows x 10 columns]"
            ]
          },
          "metadata": {
            "tags": []
          },
          "execution_count": 3
        }
      ]
    },
    {
      "cell_type": "code",
      "metadata": {
        "id": "69JszppFadLK",
        "colab_type": "code",
        "outputId": "3db51fd1-0490-4ea6-8c84-95f8ea97f931",
        "colab": {
          "base_uri": "https://localhost:8080/",
          "height": 297
        }
      },
      "source": [
        "df.describe()"
      ],
      "execution_count": 4,
      "outputs": [
        {
          "output_type": "execute_result",
          "data": {
            "text/html": [
              "<div>\n",
              "<style scoped>\n",
              "    .dataframe tbody tr th:only-of-type {\n",
              "        vertical-align: middle;\n",
              "    }\n",
              "\n",
              "    .dataframe tbody tr th {\n",
              "        vertical-align: top;\n",
              "    }\n",
              "\n",
              "    .dataframe thead th {\n",
              "        text-align: right;\n",
              "    }\n",
              "</style>\n",
              "<table border=\"1\" class=\"dataframe\">\n",
              "  <thead>\n",
              "    <tr style=\"text-align: right;\">\n",
              "      <th></th>\n",
              "      <th>Clothing ID</th>\n",
              "      <th>Age</th>\n",
              "      <th>Rating</th>\n",
              "      <th>Recommended IND</th>\n",
              "      <th>Positive Feedback Count</th>\n",
              "    </tr>\n",
              "  </thead>\n",
              "  <tbody>\n",
              "    <tr>\n",
              "      <th>count</th>\n",
              "      <td>23486.000000</td>\n",
              "      <td>23486.000000</td>\n",
              "      <td>28817.000000</td>\n",
              "      <td>28817.000000</td>\n",
              "      <td>23486.000000</td>\n",
              "    </tr>\n",
              "    <tr>\n",
              "      <th>mean</th>\n",
              "      <td>918.118709</td>\n",
              "      <td>43.198544</td>\n",
              "      <td>3.604782</td>\n",
              "      <td>0.670229</td>\n",
              "      <td>2.535936</td>\n",
              "    </tr>\n",
              "    <tr>\n",
              "      <th>std</th>\n",
              "      <td>203.298980</td>\n",
              "      <td>12.279544</td>\n",
              "      <td>1.595100</td>\n",
              "      <td>0.470138</td>\n",
              "      <td>5.702202</td>\n",
              "    </tr>\n",
              "    <tr>\n",
              "      <th>min</th>\n",
              "      <td>0.000000</td>\n",
              "      <td>18.000000</td>\n",
              "      <td>1.000000</td>\n",
              "      <td>0.000000</td>\n",
              "      <td>0.000000</td>\n",
              "    </tr>\n",
              "    <tr>\n",
              "      <th>25%</th>\n",
              "      <td>861.000000</td>\n",
              "      <td>34.000000</td>\n",
              "      <td>2.000000</td>\n",
              "      <td>0.000000</td>\n",
              "      <td>0.000000</td>\n",
              "    </tr>\n",
              "    <tr>\n",
              "      <th>50%</th>\n",
              "      <td>936.000000</td>\n",
              "      <td>41.000000</td>\n",
              "      <td>4.000000</td>\n",
              "      <td>1.000000</td>\n",
              "      <td>1.000000</td>\n",
              "    </tr>\n",
              "    <tr>\n",
              "      <th>75%</th>\n",
              "      <td>1078.000000</td>\n",
              "      <td>52.000000</td>\n",
              "      <td>5.000000</td>\n",
              "      <td>1.000000</td>\n",
              "      <td>3.000000</td>\n",
              "    </tr>\n",
              "    <tr>\n",
              "      <th>max</th>\n",
              "      <td>1205.000000</td>\n",
              "      <td>99.000000</td>\n",
              "      <td>5.000000</td>\n",
              "      <td>1.000000</td>\n",
              "      <td>122.000000</td>\n",
              "    </tr>\n",
              "  </tbody>\n",
              "</table>\n",
              "</div>"
            ],
            "text/plain": [
              "        Clothing ID           Age  ...  Recommended IND  Positive Feedback Count\n",
              "count  23486.000000  23486.000000  ...     28817.000000             23486.000000\n",
              "mean     918.118709     43.198544  ...         0.670229                 2.535936\n",
              "std      203.298980     12.279544  ...         0.470138                 5.702202\n",
              "min        0.000000     18.000000  ...         0.000000                 0.000000\n",
              "25%      861.000000     34.000000  ...         0.000000                 0.000000\n",
              "50%      936.000000     41.000000  ...         1.000000                 1.000000\n",
              "75%     1078.000000     52.000000  ...         1.000000                 3.000000\n",
              "max     1205.000000     99.000000  ...         1.000000               122.000000\n",
              "\n",
              "[8 rows x 5 columns]"
            ]
          },
          "metadata": {
            "tags": []
          },
          "execution_count": 4
        }
      ]
    },
    {
      "cell_type": "code",
      "metadata": {
        "id": "LoreGEzoagxX",
        "colab_type": "code",
        "outputId": "ffea2d1b-d81b-4ee0-a38a-98ec66a5750a",
        "colab": {
          "base_uri": "https://localhost:8080/",
          "height": 306
        }
      },
      "source": [
        "df.info()"
      ],
      "execution_count": 5,
      "outputs": [
        {
          "output_type": "stream",
          "text": [
            "<class 'pandas.core.frame.DataFrame'>\n",
            "RangeIndex: 28817 entries, 0 to 28816\n",
            "Data columns (total 10 columns):\n",
            " #   Column                   Non-Null Count  Dtype  \n",
            "---  ------                   --------------  -----  \n",
            " 0   Clothing ID              23486 non-null  float64\n",
            " 1   Age                      23486 non-null  float64\n",
            " 2   Title                    19676 non-null  object \n",
            " 3   Review Text              27972 non-null  object \n",
            " 4   Rating                   28817 non-null  int64  \n",
            " 5   Recommended IND          28817 non-null  int64  \n",
            " 6   Positive Feedback Count  23486 non-null  float64\n",
            " 7   Division Name            23472 non-null  object \n",
            " 8   Department Name          23472 non-null  object \n",
            " 9   Class Name               23472 non-null  object \n",
            "dtypes: float64(3), int64(2), object(5)\n",
            "memory usage: 2.2+ MB\n"
          ],
          "name": "stdout"
        }
      ]
    },
    {
      "cell_type": "code",
      "metadata": {
        "id": "b0CkOs9SajGm",
        "colab_type": "code",
        "colab": {}
      },
      "source": [
        "a = df['Review Text'].str.lower().str.cat(sep=' ')\n",
        "\n",
        "# removes punctuation, numbers\n",
        "b = re.sub('[^A-Za-z]+', ' ', a)\n",
        "\n",
        "#remove all the stopwords from the text\n",
        "stop_words = list(get_stop_words('en'))         \n",
        "nltk_words = list(stopwords.words('english'))   \n",
        "stop_words.extend(nltk_words)"
      ],
      "execution_count": 0,
      "outputs": []
    },
    {
      "cell_type": "code",
      "metadata": {
        "id": "KZjifi-5nd6f",
        "colab_type": "code",
        "outputId": "9607f6f8-1ddd-4839-816c-a8421d95db56",
        "colab": {
          "base_uri": "https://localhost:8080/",
          "height": 606
        }
      },
      "source": [
        "words_num = 100\n",
        "#Tokenization to convert into word tokens\n",
        "word_tokens = word_tokenize(b)\n",
        "filtered_sentence = [word for word in word_tokens if not word in stop_words]\n",
        "filtered_sentence = []\n",
        "for word in word_tokens:\n",
        "    if word not in stop_words:\n",
        "        filtered_sentence.append(word)\n",
        "        \n",
        "# Remove characters which have length less than 2  \n",
        "without_single_chr = [word for word in filtered_sentence if len(word) > 2]\n",
        "\n",
        "# Remove numbers\n",
        "cleaned_data_title = [word for word in without_single_chr if not word.isnumeric()]        \n",
        "\n",
        "# Frequency distribution\n",
        "word_dist = nltk.FreqDist(cleaned_data_title)\n",
        "rslt = pd.DataFrame(word_dist.most_common(words_num), columns=['Word', 'Frequency'])\n",
        "plt.figure(figsize=(10,10))\n",
        "sb.set_style(\"whitegrid\")\n",
        "ax = sb.barplot(x=\"Word\",y=\"Frequency\", data=rslt.head(7))"
      ],
      "execution_count": 7,
      "outputs": [
        {
          "output_type": "display_data",
          "data": {
            "image/png": "[encoded data removed]",
            "text/plain": [
              "<Figure size 720x720 with 1 Axes>"
            ]
          },
          "metadata": {
            "tags": [],
            "needs_background": "light"
          }
        }
      ]
    },
    {
      "cell_type": "code",
      "metadata": {
        "id": "96sZFrrfvmjn",
        "colab_type": "code",
        "outputId": "20760846-6879-478e-e4db-b1b9229dc2ff",
        "colab": {
          "base_uri": "https://localhost:8080/",
          "height": 559
        }
      },
      "source": [
        "class_name = df['Class Name'].value_counts()\n",
        "\n",
        "avg_rcn = df.groupby('Class Name').agg({'Rating': np.average})\n",
        "\n",
        "rat_and_reviews = go.Scatter3d( x = avg_rcn.index,\n",
        "                                y = avg_rcn['Rating'],\n",
        "                                z = class_name[avg_rcn.index],\n",
        "                                mode = 'markers',\n",
        "                                marker = dict(size=10,color=avg_rcn['Rating']),\n",
        "                                hoverinfo =\"text\",\n",
        "                                text=\"Class: \"+avg_rcn.index+\" \\ Average Rating: \"+avg_rcn['Rating'].map(' {:,.2f}'.format).apply(str)+\" \\ Number of Reviewers: \"+class_name[avg_rcn.index].apply(str)\n",
        "                              )\n",
        "review_data = [rat_and_reviews]\n",
        "layout_3d = go.Layout(title=\"3D plot of Avg rating, class and number of reviewers\",\n",
        "                   scene = dict(\n",
        "                   xaxis = dict(title='Class'),\n",
        "                   yaxis = dict(title='Average Rating'),\n",
        "                   zaxis = dict(title='Number of Sales'),),\n",
        "                   margin = dict(l=30, r=30, b=30, t=30))\n",
        "fig_3d = go.Figure(data=review_data, layout=layout_3d)\n",
        "py.iplot(fig_3d)\n",
        "plt.savefig('3D_Scatter.png')"
      ],
      "execution_count": 10,
      "outputs": [
        {
          "output_type": "display_data",
          "data": {
            "text/html": [
              "<html>\n",
              "<head><meta charset=\"utf-8\" /></head>\n",
              "<body>\n",
              "    <div>\n",
              "            <script src=\"https://cdnjs.cloudflare.com/ajax/libs/mathjax/2.7.5/MathJax.js?config=TeX-AMS-MML_SVG\"></script><script type=\"text/javascript\">if (window.MathJax) {MathJax.Hub.Config({SVG: {font: \"STIX-Web\"}});}</script>\n",
              "                <script type=\"text/javascript\">window.PlotlyConfig = {MathJaxConfig: 'local'};</script>\n",
              "        <script src=\"https://cdn.plot.ly/plotly-latest.min.js\"></script>    \n",
              "            <div id=\"ad918501-23a4-4331-ad26-49fd90c30d50\" class=\"plotly-graph-div\" style=\"height:525px; width:100%;\"></div>\n",
              "            <script type=\"text/javascript\">\n",
              "                \n",
              "                    window.PLOTLYENV=window.PLOTLYENV || {};\n",
              "                    \n",
              "                if (document.getElementById(\"ad918501-23a4-4331-ad26-49fd90c30d50\")) {\n",
              "                    Plotly.newPlot(\n",
              "                        'ad918501-23a4-4331-ad26-49fd90c30d50',\n",
              "                        [{\"hoverinfo\": \"text\", \"marker\": {\"color\": [4.154020019373587, 4.5, 4.0, 4.150815002373793, 4.260909090909091, 4.279220779220779, 4.295454545454546, 4.360941586748038, 4.161676646706587, 4.376712328767123, 4.278787878787878, 4.301013024602026, 4.198170731707317, 4.265850144092219, 4.255520504731861, 4.245502645502645, 4.285087719298246, 4.179271708683474, 4.1971428571428575, 3.8151260504201683], \"size\": 10}, \"mode\": \"markers\", \"text\": [\"Class: Blouses \\\\ Average Rating:  4.15 \\\\ Number of Reviewers: 3097\", \"Class: Casual bottoms \\\\ Average Rating:  4.50 \\\\ Number of Reviewers: 2\", \"Class: Chemises \\\\ Average Rating:  4.00 \\\\ Number of Reviewers: 1\", \"Class: Dresses \\\\ Average Rating:  4.15 \\\\ Number of Reviewers: 6319\", \"Class: Fine gauge \\\\ Average Rating:  4.26 \\\\ Number of Reviewers: 1100\", \"Class: Intimates \\\\ Average Rating:  4.28 \\\\ Number of Reviewers: 154\", \"Class: Jackets \\\\ Average Rating:  4.30 \\\\ Number of Reviewers: 704\", \"Class: Jeans \\\\ Average Rating:  4.36 \\\\ Number of Reviewers: 1147\", \"Class: Knits \\\\ Average Rating:  4.16 \\\\ Number of Reviewers: 4843\", \"Class: Layering \\\\ Average Rating:  4.38 \\\\ Number of Reviewers: 146\", \"Class: Legwear \\\\ Average Rating:  4.28 \\\\ Number of Reviewers: 165\", \"Class: Lounge \\\\ Average Rating:  4.30 \\\\ Number of Reviewers: 691\", \"Class: Outerwear \\\\ Average Rating:  4.20 \\\\ Number of Reviewers: 328\", \"Class: Pants \\\\ Average Rating:  4.27 \\\\ Number of Reviewers: 1388\", \"Class: Shorts \\\\ Average Rating:  4.26 \\\\ Number of Reviewers: 317\", \"Class: Skirts \\\\ Average Rating:  4.25 \\\\ Number of Reviewers: 945\", \"Class: Sleep \\\\ Average Rating:  4.29 \\\\ Number of Reviewers: 228\", \"Class: Sweaters \\\\ Average Rating:  4.18 \\\\ Number of Reviewers: 1428\", \"Class: Swim \\\\ Average Rating:  4.20 \\\\ Number of Reviewers: 350\", \"Class: Trend \\\\ Average Rating:  3.82 \\\\ Number of Reviewers: 119\"], \"type\": \"scatter3d\", \"x\": [\"Blouses\", \"Casual bottoms\", \"Chemises\", \"Dresses\", \"Fine gauge\", \"Intimates\", \"Jackets\", \"Jeans\", \"Knits\", \"Layering\", \"Legwear\", \"Lounge\", \"Outerwear\", \"Pants\", \"Shorts\", \"Skirts\", \"Sleep\", \"Sweaters\", \"Swim\", \"Trend\"], \"y\": [4.154020019373587, 4.5, 4.0, 4.150815002373793, 4.260909090909091, 4.279220779220779, 4.295454545454546, 4.360941586748038, 4.161676646706587, 4.376712328767123, 4.278787878787878, 4.301013024602026, 4.198170731707317, 4.265850144092219, 4.255520504731861, 4.245502645502645, 4.285087719298246, 4.179271708683474, 4.1971428571428575, 3.8151260504201683], \"z\": [3097, 2, 1, 6319, 1100, 154, 704, 1147, 4843, 146, 165, 691, 328, 1388, 317, 945, 228, 1428, 350, 119]}],\n",
              "                        {\"margin\": {\"b\": 30, \"l\": 30, \"r\": 30, \"t\": 30}, \"scene\": {\"xaxis\": {\"title\": {\"text\": \"Class\"}}, \"yaxis\": {\"title\": {\"text\": \"Average Rating\"}}, \"zaxis\": {\"title\": {\"text\": \"Number of Sales\"}}}, \"template\": {\"data\": {\"bar\": [{\"error_x\": {\"color\": \"#2a3f5f\"}, \"error_y\": {\"color\": \"#2a3f5f\"}, \"marker\": {\"line\": {\"color\": \"#E5ECF6\", \"width\": 0.5}}, \"type\": \"bar\"}], \"barpolar\": [{\"marker\": {\"line\": {\"color\": \"#E5ECF6\", \"width\": 0.5}}, \"type\": \"barpolar\"}], \"carpet\": [{\"aaxis\": {\"endlinecolor\": \"#2a3f5f\", \"gridcolor\": \"white\", \"linecolor\": \"white\", \"minorgridcolor\": \"white\", \"startlinecolor\": \"#2a3f5f\"}, \"baxis\": {\"endlinecolor\": \"#2a3f5f\", \"gridcolor\": \"white\", \"linecolor\": \"white\", \"minorgridcolor\": \"white\", \"startlinecolor\": \"#2a3f5f\"}, \"type\": \"carpet\"}], \"choropleth\": [{\"colorbar\": {\"outlinewidth\": 0, \"ticks\": \"\"}, \"type\": \"choropleth\"}], \"contour\": [{\"colorbar\": {\"outlinewidth\": 0, \"ticks\": \"\"}, \"colorscale\": [[0.0, \"#0d0887\"], [0.1111111111111111, \"#46039f\"], [0.2222222222222222, \"#7201a8\"], [0.3333333333333333, \"#9c179e\"], [0.4444444444444444, \"#bd3786\"], [0.5555555555555556, \"#d8576b\"], [0.6666666666666666, \"#ed7953\"], [0.7777777777777778, \"#fb9f3a\"], [0.8888888888888888, \"#fdca26\"], [1.0, \"#f0f921\"]], \"type\": \"contour\"}], \"contourcarpet\": [{\"colorbar\": {\"outlinewidth\": 0, \"ticks\": \"\"}, \"type\": \"contourcarpet\"}], \"heatmap\": [{\"colorbar\": {\"outlinewidth\": 0, \"ticks\": \"\"}, \"colorscale\": [[0.0, \"#0d0887\"], [0.1111111111111111, \"#46039f\"], [0.2222222222222222, \"#7201a8\"], [0.3333333333333333, \"#9c179e\"], [0.4444444444444444, \"#bd3786\"], [0.5555555555555556, \"#d8576b\"], [0.6666666666666666, \"#ed7953\"], [0.7777777777777778, \"#fb9f3a\"], [0.8888888888888888, \"#fdca26\"], [1.0, \"#f0f921\"]], \"type\": \"heatmap\"}], \"heatmapgl\": [{\"colorbar\": {\"outlinewidth\": 0, \"ticks\": \"\"}, \"colorscale\": [[0.0, \"#0d0887\"], [0.1111111111111111, \"#46039f\"], [0.2222222222222222, \"#7201a8\"], [0.3333333333333333, \"#9c179e\"], [0.4444444444444444, \"#bd3786\"], [0.5555555555555556, \"#d8576b\"], [0.6666666666666666, \"#ed7953\"], [0.7777777777777778, \"#fb9f3a\"], [0.8888888888888888, \"#fdca26\"], [1.0, \"#f0f921\"]], \"type\": \"heatmapgl\"}], \"histogram\": [{\"marker\": {\"colorbar\": {\"outlinewidth\": 0, \"ticks\": \"\"}}, \"type\": \"histogram\"}], \"histogram2d\": [{\"colorbar\": {\"outlinewidth\": 0, \"ticks\": \"\"}, \"colorscale\": [[0.0, \"#0d0887\"], [0.1111111111111111, \"#46039f\"], [0.2222222222222222, \"#7201a8\"], [0.3333333333333333, \"#9c179e\"], [0.4444444444444444, \"#bd3786\"], [0.5555555555555556, \"#d8576b\"], [0.6666666666666666, \"#ed7953\"], [0.7777777777777778, \"#fb9f3a\"], [0.8888888888888888, \"#fdca26\"], [1.0, \"#f0f921\"]], \"type\": \"histogram2d\"}], \"histogram2dcontour\": [{\"colorbar\": {\"outlinewidth\": 0, \"ticks\": \"\"}, \"colorscale\": [[0.0, \"#0d0887\"], [0.1111111111111111, \"#46039f\"], [0.2222222222222222, \"#7201a8\"], [0.3333333333333333, \"#9c179e\"], [0.4444444444444444, \"#bd3786\"], [0.5555555555555556, \"#d8576b\"], [0.6666666666666666, \"#ed7953\"], [0.7777777777777778, \"#fb9f3a\"], [0.8888888888888888, \"#fdca26\"], [1.0, \"#f0f921\"]], \"type\": \"histogram2dcontour\"}], \"mesh3d\": [{\"colorbar\": {\"outlinewidth\": 0, \"ticks\": \"\"}, \"type\": \"mesh3d\"}], \"parcoords\": [{\"line\": {\"colorbar\": {\"outlinewidth\": 0, \"ticks\": \"\"}}, \"type\": \"parcoords\"}], \"pie\": [{\"automargin\": true, \"type\": \"pie\"}], \"scatter\": [{\"marker\": {\"colorbar\": {\"outlinewidth\": 0, \"ticks\": \"\"}}, \"type\": \"scatter\"}], \"scatter3d\": [{\"line\": {\"colorbar\": {\"outlinewidth\": 0, \"ticks\": \"\"}}, \"marker\": {\"colorbar\": {\"outlinewidth\": 0, \"ticks\": \"\"}}, \"type\": \"scatter3d\"}], \"scattercarpet\": [{\"marker\": {\"colorbar\": {\"outlinewidth\": 0, \"ticks\": \"\"}}, \"type\": \"scattercarpet\"}], \"scattergeo\": [{\"marker\": {\"colorbar\": {\"outlinewidth\": 0, \"ticks\": \"\"}}, \"type\": \"scattergeo\"}], \"scattergl\": [{\"marker\": {\"colorbar\": {\"outlinewidth\": 0, \"ticks\": \"\"}}, \"type\": \"scattergl\"}], \"scattermapbox\": [{\"marker\": {\"colorbar\": {\"outlinewidth\": 0, \"ticks\": \"\"}}, \"type\": \"scattermapbox\"}], \"scatterpolar\": [{\"marker\": {\"colorbar\": {\"outlinewidth\": 0, \"ticks\": \"\"}}, \"type\": \"scatterpolar\"}], \"scatterpolargl\": [{\"marker\": {\"colorbar\": {\"outlinewidth\": 0, \"ticks\": \"\"}}, \"type\": \"scatterpolargl\"}], \"scatterternary\": [{\"marker\": {\"colorbar\": {\"outlinewidth\": 0, \"ticks\": \"\"}}, \"type\": \"scatterternary\"}], \"surface\": [{\"colorbar\": {\"outlinewidth\": 0, \"ticks\": \"\"}, \"colorscale\": [[0.0, \"#0d0887\"], [0.1111111111111111, \"#46039f\"], [0.2222222222222222, \"#7201a8\"], [0.3333333333333333, \"#9c179e\"], [0.4444444444444444, \"#bd3786\"], [0.5555555555555556, \"#d8576b\"], [0.6666666666666666, \"#ed7953\"], [0.7777777777777778, \"#fb9f3a\"], [0.8888888888888888, \"#fdca26\"], [1.0, \"#f0f921\"]], \"type\": \"surface\"}], \"table\": [{\"cells\": {\"fill\": {\"color\": \"#EBF0F8\"}, \"line\": {\"color\": \"white\"}}, \"header\": {\"fill\": {\"color\": \"#C8D4E3\"}, \"line\": {\"color\": \"white\"}}, \"type\": \"table\"}]}, \"layout\": {\"annotationdefaults\": {\"arrowcolor\": \"#2a3f5f\", \"arrowhead\": 0, \"arrowwidth\": 1}, \"coloraxis\": {\"colorbar\": {\"outlinewidth\": 0, \"ticks\": \"\"}}, \"colorscale\": {\"diverging\": [[0, \"#8e0152\"], [0.1, \"#c51b7d\"], [0.2, \"#de77ae\"], [0.3, \"#f1b6da\"], [0.4, \"#fde0ef\"], [0.5, \"#f7f7f7\"], [0.6, \"#e6f5d0\"], [0.7, \"#b8e186\"], [0.8, \"#7fbc41\"], [0.9, \"#4d9221\"], [1, \"#276419\"]], \"sequential\": [[0.0, \"#0d0887\"], [0.1111111111111111, \"#46039f\"], [0.2222222222222222, \"#7201a8\"], [0.3333333333333333, \"#9c179e\"], [0.4444444444444444, \"#bd3786\"], [0.5555555555555556, \"#d8576b\"], [0.6666666666666666, \"#ed7953\"], [0.7777777777777778, \"#fb9f3a\"], [0.8888888888888888, \"#fdca26\"], [1.0, \"#f0f921\"]], \"sequentialminus\": [[0.0, \"#0d0887\"], [0.1111111111111111, \"#46039f\"], [0.2222222222222222, \"#7201a8\"], [0.3333333333333333, \"#9c179e\"], [0.4444444444444444, \"#bd3786\"], [0.5555555555555556, \"#d8576b\"], [0.6666666666666666, \"#ed7953\"], [0.7777777777777778, \"#fb9f3a\"], [0.8888888888888888, \"#fdca26\"], [1.0, \"#f0f921\"]]}, \"colorway\": [\"#636efa\", \"#EF553B\", \"#00cc96\", \"#ab63fa\", \"#FFA15A\", \"#19d3f3\", \"#FF6692\", \"#B6E880\", \"#FF97FF\", \"#FECB52\"], \"font\": {\"color\": \"#2a3f5f\"}, \"geo\": {\"bgcolor\": \"white\", \"lakecolor\": \"white\", \"landcolor\": \"#E5ECF6\", \"showlakes\": true, \"showland\": true, \"subunitcolor\": \"white\"}, \"hoverlabel\": {\"align\": \"left\"}, \"hovermode\": \"closest\", \"mapbox\": {\"style\": \"light\"}, \"paper_bgcolor\": \"white\", \"plot_bgcolor\": \"#E5ECF6\", \"polar\": {\"angularaxis\": {\"gridcolor\": \"white\", \"linecolor\": \"white\", \"ticks\": \"\"}, \"bgcolor\": \"#E5ECF6\", \"radialaxis\": {\"gridcolor\": \"white\", \"linecolor\": \"white\", \"ticks\": \"\"}}, \"scene\": {\"xaxis\": {\"backgroundcolor\": \"#E5ECF6\", \"gridcolor\": \"white\", \"gridwidth\": 2, \"linecolor\": \"white\", \"showbackground\": true, \"ticks\": \"\", \"zerolinecolor\": \"white\"}, \"yaxis\": {\"backgroundcolor\": \"#E5ECF6\", \"gridcolor\": \"white\", \"gridwidth\": 2, \"linecolor\": \"white\", \"showbackground\": true, \"ticks\": \"\", \"zerolinecolor\": \"white\"}, \"zaxis\": {\"backgroundcolor\": \"#E5ECF6\", \"gridcolor\": \"white\", \"gridwidth\": 2, \"linecolor\": \"white\", \"showbackground\": true, \"ticks\": \"\", \"zerolinecolor\": \"white\"}}, \"shapedefaults\": {\"line\": {\"color\": \"#2a3f5f\"}}, \"ternary\": {\"aaxis\": {\"gridcolor\": \"white\", \"linecolor\": \"white\", \"ticks\": \"\"}, \"baxis\": {\"gridcolor\": \"white\", \"linecolor\": \"white\", \"ticks\": \"\"}, \"bgcolor\": \"#E5ECF6\", \"caxis\": {\"gridcolor\": \"white\", \"linecolor\": \"white\", \"ticks\": \"\"}}, \"title\": {\"x\": 0.05}, \"xaxis\": {\"automargin\": true, \"gridcolor\": \"white\", \"linecolor\": \"white\", \"ticks\": \"\", \"title\": {\"standoff\": 15}, \"zerolinecolor\": \"white\", \"zerolinewidth\": 2}, \"yaxis\": {\"automargin\": true, \"gridcolor\": \"white\", \"linecolor\": \"white\", \"ticks\": \"\", \"title\": {\"standoff\": 15}, \"zerolinecolor\": \"white\", \"zerolinewidth\": 2}}}, \"title\": {\"text\": \"3D plot of Avg rating, class and number of reviewers\"}},\n",
              "                        {\"responsive\": true}\n",
              "                    ).then(function(){\n",
              "                            \n",
              "var gd = document.getElementById('ad918501-23a4-4331-ad26-49fd90c30d50');\n",
              "var x = new MutationObserver(function (mutations, observer) {{\n",
              "        var display = window.getComputedStyle(gd).display;\n",
              "        if (!display || display === 'none') {{\n",
              "            console.log([gd, 'removed!']);\n",
              "            Plotly.purge(gd);\n",
              "            observer.disconnect();\n",
              "        }}\n",
              "}});\n",
              "\n",
              "// Listen for the removal of the full notebook cells\n",
              "var notebookContainer = gd.closest('#notebook-container');\n",
              "if (notebookContainer) {{\n",
              "    x.observe(notebookContainer, {childList: true});\n",
              "}}\n",
              "\n",
              "// Listen for the clearing of the current output cell\n",
              "var outputEl = gd.closest('.output');\n",
              "if (outputEl) {{\n",
              "    x.observe(outputEl, {childList: true});\n",
              "}}\n",
              "\n",
              "                        })\n",
              "                };\n",
              "                \n",
              "            </script>\n",
              "        </div>\n",
              "</body>\n",
              "</html>"
            ]
          },
          "metadata": {
            "tags": []
          }
        },
        {
          "output_type": "display_data",
          "data": {
            "text/plain": [
              "<Figure size 432x288 with 0 Axes>"
            ]
          },
          "metadata": {
            "tags": []
          }
        }
      ]
    },
    {
      "cell_type": "code",
      "metadata": {
        "id": "F4X8-SVIow2g",
        "colab_type": "code",
        "outputId": "bdce98a0-874e-47ee-be2d-26bfba71c0f6",
        "colab": {
          "base_uri": "https://localhost:8080/",
          "height": 606
        }
      },
      "source": [
        "#Textblob module to find the sentimental polarity\n",
        "from textblob import TextBlob\n",
        "\n",
        "bloblist_desc = list()\n",
        "\n",
        "df_review_str=df['Review Text'].astype(str)\n",
        "for row in df_review_str:\n",
        "    blob = TextBlob(row)\n",
        "    bloblist_desc.append((row,blob.sentiment.polarity, blob.sentiment.subjectivity))\n",
        "    df_polarity_desc = pd.DataFrame(bloblist_desc, columns = ['Review','sentiment','polarity'])\n",
        " \n",
        "def f(df_polarity_desc):\n",
        "    if df_polarity_desc['sentiment'] > 0:\n",
        "        val = \"Positive Review\"\n",
        "    elif df_polarity_desc['sentiment'] == 0:\n",
        "        val = \"Neutral Review\"\n",
        "    else:\n",
        "        val = \"Negative Review\"\n",
        "    return val\n",
        "\n",
        "df_polarity_desc['Sentiment_Type'] = df_polarity_desc.apply(f, axis=1)\n",
        "\n",
        "plt.figure(figsize=(10,10))\n",
        "sb.set_style(\"whitegrid\")\n",
        "ax = sb.countplot(x=\"Sentiment_Type\", data=df_polarity_desc)"
      ],
      "execution_count": 11,
      "outputs": [
        {
          "output_type": "display_data",
          "data": {
            "image/png": "[encoded data removed]",
            "text/plain": [
              "<Figure size 720x720 with 1 Axes>"
            ]
          },
          "metadata": {
            "tags": []
          }
        }
      ]
    },
    {
      "cell_type": "code",
      "metadata": {
        "id": "-j9PiOm_rKSg",
        "colab_type": "code",
        "outputId": "0356443e-2ea3-4e52-c1ed-c3a5f4ce7e00",
        "colab": {
          "base_uri": "https://localhost:8080/",
          "height": 119
        }
      },
      "source": [
        "#Text Processing\n",
        "def text_preprocessing(review):\n",
        "    nopunc=[word for word in review if word not in string.punctuation]\n",
        "    nopunc=''.join(nopunc)\n",
        "    return [word for word in nopunc.split() if word.lower() not in stopwords.words('english')]\n",
        "df['Review Text'].head(5).apply(text_preprocessing)"
      ],
      "execution_count": 12,
      "outputs": [
        {
          "output_type": "execute_result",
          "data": {
            "text/plain": [
              "0    [Absolutely, wonderful, silky, sexy, comfortable]\n",
              "1    [Love, dress, sooo, pretty, happened, find, st...\n",
              "2    [high, hopes, dress, really, wanted, work, ini...\n",
              "3    [love, love, love, jumpsuit, fun, flirty, fabu...\n",
              "4    [shirt, flattering, due, adjustable, front, ti...\n",
              "Name: Review Text, dtype: object"
            ]
          },
          "metadata": {
            "tags": []
          },
          "execution_count": 12
        }
      ]
    },
    {
      "cell_type": "code",
      "metadata": {
        "id": "_FpieYqQraLv",
        "colab_type": "code",
        "colab": {}
      },
      "source": [
        "#Taking the variable review text and rating(1-bad, 5-best)\n",
        "df=df.dropna(axis=0,how='any')\n",
        "rating_class = df[(df['Rating'] == 1) | (df['Rating'] == 5)]\n",
        "x=rating_class['Review Text']\n",
        "y=rating_class['Recommended IND']\n"
      ],
      "execution_count": 0,
      "outputs": []
    },
    {
      "cell_type": "code",
      "metadata": {
        "id": "C-tYbj2XsNZz",
        "colab_type": "code",
        "outputId": "955356e6-935d-43d5-a03d-c016f9c1af11",
        "colab": {
          "base_uri": "https://localhost:8080/",
          "height": 34
        }
      },
      "source": [
        "#Feature Extraction using bag of Words\n",
        "bagofwords_vector = CountVectorizer(analyzer=text_preprocessing).fit(x)\n",
        "print(len(bagofwords_vector.vocabulary_))\n",
        "x_review = bagofwords_vector.transform(x)\n"
      ],
      "execution_count": 14,
      "outputs": [
        {
          "output_type": "stream",
          "text": [
            "13950\n"
          ],
          "name": "stdout"
        }
      ]
    },
    {
      "cell_type": "code",
      "metadata": {
        "id": "WkiTxKCNta9D",
        "colab_type": "code",
        "colab": {}
      },
      "source": [
        "#Splitting the data into training and testing data\n",
        "x_train, x_test, y_train, y_test = train_test_split(x_review, y, test_size=0.3, random_state=101)"
      ],
      "execution_count": 0,
      "outputs": []
    },
    {
      "cell_type": "code",
      "metadata": {
        "id": "60rHabnawN_N",
        "colab_type": "code",
        "outputId": "881b8f03-5c2c-407f-8f0d-92eadb0ce64a",
        "colab": {
          "base_uri": "https://localhost:8080/",
          "height": 85
        }
      },
      "source": [
        "#SVM classifier\n",
        "classifier_svm= SVC(C= 1, kernel='rbf', probability=True)\n",
        "classifier_svm.fit(x_train, y_train.ravel())"
      ],
      "execution_count": 16,
      "outputs": [
        {
          "output_type": "execute_result",
          "data": {
            "text/plain": [
              "SVC(C=1, break_ties=False, cache_size=200, class_weight=None, coef0=0.0,\n",
              "    decision_function_shape='ovr', degree=3, gamma='scale', kernel='rbf',\n",
              "    max_iter=-1, probability=True, random_state=None, shrinking=True, tol=0.001,\n",
              "    verbose=False)"
            ]
          },
          "metadata": {
            "tags": []
          },
          "execution_count": 16
        }
      ]
    },
    {
      "cell_type": "code",
      "metadata": {
        "id": "rTkxHXeBxROa",
        "colab_type": "code",
        "colab": {}
      },
      "source": [
        "#Predicting using SVM\n",
        "predict_svm=classifier_svm.predict(x_test)\n",
        "\n"
      ],
      "execution_count": 0,
      "outputs": []
    },
    {
      "cell_type": "code",
      "metadata": {
        "id": "mxGr_M9xxjnC",
        "colab_type": "code",
        "outputId": "c8b5d979-c472-4607-c174-b87ad16f2637",
        "colab": {
          "base_uri": "https://localhost:8080/",
          "height": 255
        }
      },
      "source": [
        "#Accuracy of the SVM model \n",
        "print(confusion_matrix(y_test, predict_svm))\n",
        "print('\\n')\n",
        "print(classification_report(y_test, predict_svm))\n",
        "print(\"Accuracy of SVM Model is \", accuracy_score(y_test, predict_svm) * 100)"
      ],
      "execution_count": 18,
      "outputs": [
        {
          "output_type": "stream",
          "text": [
            "[[  42  161]\n",
            " [   2 3260]]\n",
            "\n",
            "\n",
            "              precision    recall  f1-score   support\n",
            "\n",
            "           0       0.95      0.21      0.34       203\n",
            "           1       0.95      1.00      0.98      3262\n",
            "\n",
            "    accuracy                           0.95      3465\n",
            "   macro avg       0.95      0.60      0.66      3465\n",
            "weighted avg       0.95      0.95      0.94      3465\n",
            "\n",
            "Accuracy of SVM Model is  95.2958152958153\n"
          ],
          "name": "stdout"
        }
      ]
    },
    {
      "cell_type": "code",
      "metadata": {
        "id": "0owgyG0RyFfR",
        "colab_type": "code",
        "outputId": "d9cc9dca-8e64-44f5-9b9c-67bab5b61392",
        "colab": {
          "base_uri": "https://localhost:8080/",
          "height": 153
        }
      },
      "source": [
        "#Random Forest classifier\n",
        "classifier = RandomForestClassifier(n_estimators=5, random_state=0)\n",
        "classifier.fit(x_train, y_train)"
      ],
      "execution_count": 19,
      "outputs": [
        {
          "output_type": "execute_result",
          "data": {
            "text/plain": [
              "RandomForestClassifier(bootstrap=True, ccp_alpha=0.0, class_weight=None,\n",
              "                       criterion='gini', max_depth=None, max_features='auto',\n",
              "                       max_leaf_nodes=None, max_samples=None,\n",
              "                       min_impurity_decrease=0.0, min_impurity_split=None,\n",
              "                       min_samples_leaf=1, min_samples_split=2,\n",
              "                       min_weight_fraction_leaf=0.0, n_estimators=5,\n",
              "                       n_jobs=None, oob_score=False, random_state=0, verbose=0,\n",
              "                       warm_start=False)"
            ]
          },
          "metadata": {
            "tags": []
          },
          "execution_count": 19
        }
      ]
    },
    {
      "cell_type": "code",
      "metadata": {
        "id": "UC6LZ7Xc3f2N",
        "colab_type": "code",
        "colab": {}
      },
      "source": [
        "predict_rf=classifier.predict(x_test)\n"
      ],
      "execution_count": 0,
      "outputs": []
    },
    {
      "cell_type": "code",
      "metadata": {
        "id": "j94Y6SIt3iEO",
        "colab_type": "code",
        "outputId": "4b0496d2-3102-41a6-cb29-4a8d90e92e7f",
        "colab": {
          "base_uri": "https://localhost:8080/",
          "height": 255
        }
      },
      "source": [
        "print(confusion_matrix(y_test, predict_rf))\n",
        "print('\\n')\n",
        "print(classification_report(y_test, predict_rf))\n",
        "print(\"Accuracy of Random Forest Classifier is \",accuracy_score(y_test, predict_rf) * 100)"
      ],
      "execution_count": 21,
      "outputs": [
        {
          "output_type": "stream",
          "text": [
            "[[  42  161]\n",
            " [  22 3240]]\n",
            "\n",
            "\n",
            "              precision    recall  f1-score   support\n",
            "\n",
            "           0       0.66      0.21      0.31       203\n",
            "           1       0.95      0.99      0.97      3262\n",
            "\n",
            "    accuracy                           0.95      3465\n",
            "   macro avg       0.80      0.60      0.64      3465\n",
            "weighted avg       0.94      0.95      0.93      3465\n",
            "\n",
            "Accuracy of Random Forest Classifier is  94.71861471861472\n"
          ],
          "name": "stdout"
        }
      ]
    },
    {
      "cell_type": "code",
      "metadata": {
        "id": "he0f-E4S3nfy",
        "colab_type": "code",
        "outputId": "2f0a3060-3d75-4158-81f1-2f1cc4916638",
        "colab": {
          "base_uri": "https://localhost:8080/",
          "height": 34
        }
      },
      "source": [
        "#Multinomial Naivebayes\n",
        "nb = MultinomialNB()\n",
        "nb.fit(x_train, y_train)"
      ],
      "execution_count": 23,
      "outputs": [
        {
          "output_type": "execute_result",
          "data": {
            "text/plain": [
              "MultinomialNB(alpha=1.0, class_prior=None, fit_prior=True)"
            ]
          },
          "metadata": {
            "tags": []
          },
          "execution_count": 23
        }
      ]
    },
    {
      "cell_type": "code",
      "metadata": {
        "id": "cul6jiQThv2P",
        "colab_type": "code",
        "colab": {}
      },
      "source": [
        "predict_nb=nb.predict(x_test)\n"
      ],
      "execution_count": 0,
      "outputs": []
    },
    {
      "cell_type": "code",
      "metadata": {
        "id": "QWXljgqZh4yN",
        "colab_type": "code",
        "outputId": "cbb67f68-38dd-4a03-e99d-47de19d828b7",
        "colab": {
          "base_uri": "https://localhost:8080/",
          "height": 255
        }
      },
      "source": [
        "print(confusion_matrix(y_test, predict_nb))\n",
        "print('\\n')\n",
        "print(classification_report(y_test, predict_nb))\n",
        "print(\"Accuracy of Multinomial Naive bayes is \",accuracy_score(y_test, predict_nb) * 100)"
      ],
      "execution_count": 25,
      "outputs": [
        {
          "output_type": "stream",
          "text": [
            "[[  66  137]\n",
            " [  16 3246]]\n",
            "\n",
            "\n",
            "              precision    recall  f1-score   support\n",
            "\n",
            "           0       0.80      0.33      0.46       203\n",
            "           1       0.96      1.00      0.98      3262\n",
            "\n",
            "    accuracy                           0.96      3465\n",
            "   macro avg       0.88      0.66      0.72      3465\n",
            "weighted avg       0.95      0.96      0.95      3465\n",
            "\n",
            "Accuracy of Multinomial Naive bayes is  95.58441558441558\n"
          ],
          "name": "stdout"
        }
      ]
    },
    {
      "cell_type": "code",
      "metadata": {
        "id": "UFOAbe8A01yw",
        "colab_type": "code",
        "outputId": "2036cfb7-8c93-416c-9914-99b5f697a538",
        "colab": {
          "base_uri": "https://localhost:8080/",
          "height": 68
        }
      },
      "source": [
        "accuracies = cross_val_score(estimator = nb, X=x_train, y = y_train.ravel(), cv = 20)\n",
        "mean_accuracy= accuracies.mean()*100\n",
        "std_accuracy= accuracies.std()*100\n",
        "print(\"The mean accuracy in %: \", accuracies.mean()*100)\n",
        "print(\"The standard deviation in % \", accuracies.std()*100)\n",
        "print(\"The accuracy of our model in % is betweeen {} and {}\".format(mean_accuracy-std_accuracy, mean_accuracy+std_accuracy))"
      ],
      "execution_count": 26,
      "outputs": [
        {
          "output_type": "stream",
          "text": [
            "The mean accuracy in %:  95.39833149981665\n",
            "The standard deviation in %  0.37810849830722504\n",
            "The accuracy of our model in % is betweeen 95.02022300150942 and 95.77643999812388\n"
          ],
          "name": "stdout"
        }
      ]
    },
    {
      "cell_type": "code",
      "metadata": {
        "id": "Ht7rI6IgVKnm",
        "colab_type": "code",
        "colab": {
          "base_uri": "https://localhost:8080/",
          "height": 54
        },
        "outputId": "8535d17d-e1df-475e-b901-a50537a3ec83"
      },
      "source": [
        "#Testing of Model with positive review\n",
        "positive_rating=df['Review Text'][17]\n",
        "positive_rating"
      ],
      "execution_count": 27,
      "outputs": [
        {
          "output_type": "execute_result",
          "data": {
            "text/plain": [
              "\"Took a chance on this blouse and so glad i did. i wasn't crazy about how the blouse is photographed on the model. i paired it whit white pants and it worked perfectly. crisp and clean is how i would describe it. launders well. fits great. drape is perfect. wear tucked in or out - can't go wrong.\""
            ]
          },
          "metadata": {
            "tags": []
          },
          "execution_count": 27
        }
      ]
    },
    {
      "cell_type": "code",
      "metadata": {
        "id": "0SpB-0GE8rAQ",
        "colab_type": "code",
        "colab": {}
      },
      "source": [
        ""
      ],
      "execution_count": 0,
      "outputs": []
    },
    {
      "cell_type": "code",
      "metadata": {
        "id": "oy3lGnOG6Xi0",
        "colab_type": "code",
        "colab": {
          "base_uri": "https://localhost:8080/",
          "height": 34
        },
        "outputId": "79d7d987-d7b7-44fb-e124-ed4e73424eb8"
      },
      "source": [
        "# 1-means positive\n",
        "positive_afterbow = bagofwords_vector.transform([positive_rating])\n",
        "nb.predict(positive_afterbow)[0]"
      ],
      "execution_count": 28,
      "outputs": [
        {
          "output_type": "execute_result",
          "data": {
            "text/plain": [
              "1"
            ]
          },
          "metadata": {
            "tags": []
          },
          "execution_count": 28
        }
      ]
    },
    {
      "cell_type": "code",
      "metadata": {
        "id": "mqDwlf8B6rwP",
        "colab_type": "code",
        "colab": {
          "base_uri": "https://localhost:8080/",
          "height": 54
        },
        "outputId": "5305ef55-c526-4160-8aec-a42761435262"
      },
      "source": [
        "#Testing of Model with negative review\n",
        "rating_negative=df['Review Text'][61]\n",
        "rating_negative"
      ],
      "execution_count": 31,
      "outputs": [
        {
          "output_type": "execute_result",
          "data": {
            "text/plain": [
              "\"3 tags sewn in, 2 small (about 1'' long) and 1 huge (about 2'' x 3''). very itchy so i cut them out. then the thread left behind was plasticy and even more itchy! how can you make an intimates item with such itchy tags? not comfortable at all! also - i love bralettes and wear them all the time including to work. i am a b cup. however, this one is so thin and flimsy that it gives no support even to a b cup - so for me this would only be a lounging bralette - if it wasn't so itchy!\""
            ]
          },
          "metadata": {
            "tags": []
          },
          "execution_count": 31
        }
      ]
    },
    {
      "cell_type": "code",
      "metadata": {
        "id": "EeO2DvMe6tQ5",
        "colab_type": "code",
        "colab": {
          "base_uri": "https://localhost:8080/",
          "height": 34
        },
        "outputId": "375bd2e2-5b8a-4e69-c3b3-397630d46245"
      },
      "source": [
        "# 0-means negative\n",
        "rating_negative_transformed = bagofwords_vector.transform([rating_negative])\n",
        "nb.predict(rating_negative_transformed)[0]"
      ],
      "execution_count": 32,
      "outputs": [
        {
          "output_type": "execute_result",
          "data": {
            "text/plain": [
              "0"
            ]
          },
          "metadata": {
            "tags": []
          },
          "execution_count": 32
        }
      ]
    },
    {
      "cell_type": "code",
      "metadata": {
        "id": "srBNrxu87Snw",
        "colab_type": "code",
        "colab": {}
      },
      "source": [
        "# calculate the fpr and tpr for all thresholds of the classification\n",
        "#MultiNomialNaiveBayes\n",
        "probs = nb.predict_proba(x_test)\n",
        "preds = probs[:,1]\n",
        "fpr, tpr, threshold = metrics.roc_curve(y_test, preds)\n",
        "roc_auc = metrics.auc(fpr, tpr) "
      ],
      "execution_count": 0,
      "outputs": []
    },
    {
      "cell_type": "code",
      "metadata": {
        "id": "7E-goE9e9Euy",
        "colab_type": "code",
        "colab": {
          "base_uri": "https://localhost:8080/",
          "height": 329
        },
        "outputId": "12532c52-11cc-4537-b792-ad685b70b390"
      },
      "source": [
        "#Receiver Operating Characteristic Curve(ROC curve)\n",
        "plt.title('Receiver Operating Characteristic')\n",
        "plt.plot(fpr, tpr, 'b', label = 'Multinomial NaiveBayes = %0.2f' % roc_auc)\n",
        "plt.legend(loc = 'lower right')\n",
        "plt.plot([0, 1], [0, 1],'r--')\n",
        "plt.xlim([0, 1])\n",
        "plt.ylim([0, 1])\n",
        "plt.ylabel('True Positive Rate')\n",
        "plt.xlabel('False Positive Rate')\n",
        "plt.show()\n",
        "print(\"\\nMultinomial NaiveBayes ROC_AUC_SCORE  :\", roc_auc*100)"
      ],
      "execution_count": 34,
      "outputs": [
        {
          "output_type": "display_data",
          "data": {
            "image/png": "[encoded data removed]",
            "text/plain": [
              "<Figure size 432x288 with 1 Axes>"
            ]
          },
          "metadata": {
            "tags": []
          }
        },
        {
          "output_type": "stream",
          "text": [
            "\n",
            "Multinomial NaiveBayes ROC_AUC_SCORE  : 89.83510675248344\n"
          ],
          "name": "stdout"
        }
      ]
    },
    {
      "cell_type": "code",
      "metadata": {
        "id": "68fF9LKR_AWH",
        "colab_type": "code",
        "colab": {}
      },
      "source": [
        ""
      ],
      "execution_count": 0,
      "outputs": []
    }
  ]
}